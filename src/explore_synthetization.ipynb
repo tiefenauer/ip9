{
 "cells": [
  {
   "cell_type": "markdown",
   "metadata": {
    "collapsed": true
   },
   "source": [
    "# Data augmentation\n",
    "\n",
    "If training data is sparse, it can be augmented by synthesizing new data from it. This is particularly easy for audio data because new data can be obtained by distorting the original signal. The following code snippeds show how this is done and let you listen to the result of synthetisation on the following audio signal."
   ]
  },
  {
   "cell_type": "code",
   "execution_count": null,
   "metadata": {},
   "outputs": [],
   "source": [
    "import numpy as np\n",
    "import librosa\n",
    "import soundfile as sf\n",
    "from IPython.display import HTML, Audio, display\n",
    "\n",
    "audio_path = '/media/daniel/IP9/corpora/readylingua-de/readylingua-de-train-0100.wav'\n",
    "transcript_path = '/media/daniel/IP9/corpora/readylingua-de/readylingua-de-train-0100.txt'\n",
    "audio, rate = librosa.load(audio_path, sr=16000, mono=True)"
   ]
  },
  {
   "cell_type": "markdown",
   "metadata": {},
   "source": [
    "## Original signal"
   ]
  },
  {
   "cell_type": "code",
   "execution_count": null,
   "metadata": {},
   "outputs": [],
   "source": [
    "display(HTML('<strong>original signal</strong>'))\n",
    "display(Audio(data=audio, rate=rate))\n",
    "display(HTML(filename=transcript_path))"
   ]
  },
  {
   "cell_type": "markdown",
   "metadata": {},
   "source": [
    "## Audio shift\n",
    "\n",
    "The audio signal can be shifted by zero-padding the original signal on the left. This makes the audio signal start later."
   ]
  },
  {
   "cell_type": "code",
   "execution_count": null,
   "metadata": {},
   "outputs": [],
   "source": [
    "from util.audio_util import shift\n",
    "\n",
    "shifted = shift(audio, rate, shift_s=1)\n",
    "\n",
    "display(HTML('<strong>Original audio signal shifted 1s to the right:</strong>'))\n",
    "display(Audio(data=shifted, rate=rate))"
   ]
  },
  {
   "cell_type": "markdown",
   "metadata": {},
   "source": [
    "## Faster/slower speakers\n",
    "\n",
    "Faster or slower speakers can be simulated by changing the tempo (without changing the pitch):"
   ]
  },
  {
   "cell_type": "code",
   "execution_count": null,
   "metadata": {},
   "outputs": [],
   "source": [
    "from util.audio_util import change_tempo\n",
    "\n",
    "slower = change_tempo(audio, 0.8)\n",
    "faster = change_tempo(audio, 1.3)\n",
    "\n",
    "display(HTML('<strong>Original audio with slower speed:</strong>'))\n",
    "display(Audio(data=slower, rate=rate))\n",
    "\n",
    "display(HTML('<strong>Original audio with faster speed:</strong>'))\n",
    "display(Audio(data=faster, rate=rate))"
   ]
  },
  {
   "cell_type": "markdown",
   "metadata": {},
   "source": [
    "## Higher/lower pitch\n",
    "\n",
    "Higher and lower voices can be simulated by changing the pitch. This could be used to simulate male speakers from female and vice versa. However, because the speaker gender was not in the meta data provided by _ReadyLingua_ the change was done randomly for both sexes."
   ]
  },
  {
   "cell_type": "code",
   "execution_count": null,
   "metadata": {},
   "outputs": [],
   "source": [
    "from util.audio_util import change_pitch\n",
    "\n",
    "higher = change_pitch(audio, rate, factor=+5)\n",
    "lower = change_pitch(audio, rate, factor=-5)\n",
    "\n",
    "display(HTML('<strong>Original audio with higher pitch:</strong>'))\n",
    "display(Audio(data=higher, rate=rate))\n",
    "\n",
    "display(HTML('<strong>Original audio with lower pitch:</strong>'))\n",
    "display(Audio(data=lower, rate=rate))"
   ]
  },
  {
   "cell_type": "markdown",
   "metadata": {},
   "source": [
    "## Louder/more silent speakers\n",
    "\n",
    "Louder or more silent speakers can be simulated by adding/removing some loudness."
   ]
  },
  {
   "cell_type": "code",
   "execution_count": null,
   "metadata": {},
   "outputs": [],
   "source": [
    "from util.audio_util import change_volume\n",
    "\n",
    "louder = change_volume(audio, rate, db=+10)\n",
    "more_quiet = change_volume(audio, rate, db=-10)\n",
    "\n",
    "display(HTML('<strong>Original audio signal +10db louder:</strong>'))\n",
    "display(Audio(data=louder, rate=rate))\n",
    "\n",
    "display(HTML('<strong>Original audio signal -10db more quiet:</strong>'))\n",
    "display(Audio(data=more_quiet, rate=rate))"
   ]
  },
  {
   "cell_type": "markdown",
   "metadata": {},
   "source": [
    "## Echo/Reverb\n",
    "\n",
    "Some distortion can be applied by adding some echo."
   ]
  },
  {
   "cell_type": "code",
   "execution_count": null,
   "metadata": {},
   "outputs": [],
   "source": [
    "from util.audio_util import add_echo\n",
    "\n",
    "echo = add_echo(audio)\n",
    "\n",
    "display(HTML('<strong>Original audio signal with echo:</strong>'))\n",
    "display(Audio(data=echo, rate=rate))"
   ]
  },
  {
   "cell_type": "markdown",
   "metadata": {},
   "source": [
    "## Combining the effects\n",
    "\n",
    "Multiple effects can be applied simultaneously."
   ]
  },
  {
   "cell_type": "code",
   "execution_count": null,
   "metadata": {},
   "outputs": [],
   "source": [
    "from util.audio_util import distort_audio\n",
    "\n",
    "distorted = distort_audio(audio, rate, shift_s=0.3, pitch_factor=1.5, tempo_factor=1.5, volume=10, echo=100)\n",
    "\n",
    "display(HTML('<strong>Distorted signal:</strong>'))\n",
    "display(Audio(data=distorted, rate=rate))"
   ]
  },
  {
   "cell_type": "code",
   "execution_count": null,
   "metadata": {},
   "outputs": [],
   "source": []
  }
 ],
 "metadata": {
  "kernelspec": {
   "display_name": "Python 3",
   "language": "python",
   "name": "python3"
  },
  "language_info": {
   "codemirror_mode": {
    "name": "ipython",
    "version": 3
   },
   "file_extension": ".py",
   "mimetype": "text/x-python",
   "name": "python",
   "nbconvert_exporter": "python",
   "pygments_lexer": "ipython3",
   "version": "3.6.7"
  },
  "latex_envs": {
   "LaTeX_envs_menu_present": true,
   "autoclose": false,
   "autocomplete": true,
   "bibliofile": "biblio.bib",
   "cite_by": "apalike",
   "current_citInitial": 1,
   "eqLabelWithNumbers": true,
   "eqNumInitial": 1,
   "hotkeys": {
    "equation": "Ctrl-E",
    "itemize": "Ctrl-I"
   },
   "labels_anchors": false,
   "latex_user_defs": false,
   "report_style_numbering": false,
   "user_envs_cfg": false
  },
  "toc": {
   "base_numbering": 1,
   "nav_menu": {},
   "number_sections": true,
   "sideBar": true,
   "skip_h1_title": false,
   "title_cell": "Table of Contents",
   "title_sidebar": "Contents",
   "toc_cell": false,
   "toc_position": {},
   "toc_section_display": true,
   "toc_window_display": true
  }
 },
 "nbformat": 4,
 "nbformat_minor": 1
}
