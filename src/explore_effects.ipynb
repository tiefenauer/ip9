{
 "cells": [
  {
   "cell_type": "markdown",
   "metadata": {
    "collapsed": true
   },
   "source": [
    "Synthesized data can be obtained by distorting the original signal."
   ]
  },
  {
   "cell_type": "code",
   "execution_count": null,
   "metadata": {},
   "outputs": [],
   "source": [
    "import numpy as np\n",
    "import librosa\n",
    "import soundfile as sf\n",
    "from IPython.display import HTML, Audio, display\n",
    "from util.audio_util import *\n",
    "\n",
    "audio_path = '/media/daniel/IP9/corpora/readylingua-de/readylingua-de-train-0100.wav'\n",
    "transcript_path = '/media/daniel/IP9/corpora/readylingua-de/readylingua-de-train-0100.txt'\n",
    "audio, rate = librosa.load(audio_path, sr=16000, mono=True)\n",
    "\n",
    "display(HTML('<strong>original signal</strong>'))\n",
    "display(Audio(data=audio, rate=rate))\n",
    "display(HTML(filename=transcript_path))\n",
    "\n",
    "display(HTML('<strong>Original audio signal shifted 1s to the right:</strong>'))\n",
    "display(Audio(data=shift(audio, rate, shift_s=1), rate=rate))\n",
    "\n",
    "display(HTML('<strong>Original audio with slower speed:</strong>'))\n",
    "display(Audio(data=change_tempo(audio, 0.8), rate=rate))\n",
    "\n",
    "display(HTML('<strong>Original audio with lower pitch:</strong>'))\n",
    "display(Audio(data=change_pitch(audio, rate, factor=-5), rate=rate))\n",
    "\n",
    "display(HTML('<strong>Original audio signal +10db louder:</strong>'))\n",
    "display(Audio(data=change_volume(audio, rate, db=+10), rate=rate))\n",
    "\n",
    "display(HTML('<strong>Original audio signal with echo:</strong>'))\n",
    "display(Audio(data=add_echo(audio), rate=rate))"
   ]
  },
  {
   "cell_type": "markdown",
   "metadata": {},
   "source": [
    "Multiple effects can be applied simultaneously."
   ]
  },
  {
   "cell_type": "code",
   "execution_count": null,
   "metadata": {},
   "outputs": [],
   "source": [
    "import numpy as np\n",
    "import random\n",
    "import librosa\n",
    "from IPython.display import HTML, Audio, display\n",
    "\n",
    "from util.audio_util import *\n",
    "audio_path = '/media/daniel/IP9/corpora/readylingua-de/readylingua-de-train-0000.wav'\n",
    "transcript_path = '/media/daniel/IP9/corpora/readylingua-de/readylingua-de-train-0000.txt'\n",
    "audio, rate = librosa.load(audio_path)\n",
    "print(audio[:10])\n",
    "print(audio.dtype)\n",
    "\n",
    "display(HTML('<strong>original signal</strong>'))\n",
    "display(Audio(data=audio, rate=rate))\n",
    "display(HTML(filename=transcript_path))\n",
    "\n",
    "audio_distorted = synthesize_audio(audio, rate, shift=True, pitch=True, tempo=True)\n",
    "\n",
    "display(HTML('<strong>Distorted signal:</strong>'))\n",
    "display(Audio(data=audio_distorted, rate=rate))\n",
    "display(HTML(filename=transcript_path))"
   ]
  },
  {
   "cell_type": "code",
   "execution_count": null,
   "metadata": {},
   "outputs": [],
   "source": []
  }
 ],
 "metadata": {
  "kernelspec": {
   "display_name": "Python 3",
   "language": "python",
   "name": "python3"
  },
  "language_info": {
   "codemirror_mode": {
    "name": "ipython",
    "version": 3
   },
   "file_extension": ".py",
   "mimetype": "text/x-python",
   "name": "python",
   "nbconvert_exporter": "python",
   "pygments_lexer": "ipython3",
   "version": "3.6.6"
  },
  "latex_envs": {
   "LaTeX_envs_menu_present": true,
   "autoclose": false,
   "autocomplete": true,
   "bibliofile": "biblio.bib",
   "cite_by": "apalike",
   "current_citInitial": 1,
   "eqLabelWithNumbers": true,
   "eqNumInitial": 1,
   "hotkeys": {
    "equation": "Ctrl-E",
    "itemize": "Ctrl-I"
   },
   "labels_anchors": false,
   "latex_user_defs": false,
   "report_style_numbering": false,
   "user_envs_cfg": false
  },
  "toc": {
   "base_numbering": 1,
   "nav_menu": {},
   "number_sections": true,
   "sideBar": true,
   "skip_h1_title": false,
   "title_cell": "Table of Contents",
   "title_sidebar": "Contents",
   "toc_cell": false,
   "toc_position": {},
   "toc_section_display": true,
   "toc_window_display": false
  }
 },
 "nbformat": 4,
 "nbformat_minor": 1
}
