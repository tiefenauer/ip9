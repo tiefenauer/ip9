{
 "cells": [
  {
   "cell_type": "markdown",
   "metadata": {},
   "source": [
    "# LibriSpeech corpus\n",
    "\n",
    "This corpus was created from the raw data found at [OpenSLR](http://www.openslr.org/12/). Speech samples and partial transcripts were extracted by parsing the metadata included in the downloaded raw data. The full transcript was extracted by searching for the first and last partial transcript in the original book text.\n",
    "\n",
    "The corpus was stored in a generic, proprietary format which mapped the individual speech segments to _corpus entries_ (which contained information about language, book chapter and speaker) and allowed easy extraction of statistical information. Because this format does not conform to the format understood by DeepSpeech, the corpus needed to be transformed to the expected format."
   ]
  },
  {
   "cell_type": "code",
   "execution_count": 1,
   "metadata": {},
   "outputs": [
    {
     "name": "stdout",
     "output_type": "stream",
     "text": [
      "\n",
      "Corpus:        LibriSpeech (languages: en)\n",
      "Root:          /media/daniel/IP9/corpora/librispeech\n",
      "Index:         /media/daniel/IP9/corpora/librispeech/index.csv\n",
      "Creation date: Mon Nov  5 09:11:20 2018\n",
      "# entries:     166510    \n",
      "\n"
     ]
    },
    {
     "data": {
      "text/html": [
       "<table border=\"1\" class=\"dataframe\">\n",
       "  <thead>\n",
       "    <tr>\n",
       "      <th></th>\n",
       "      <th></th>\n",
       "      <th colspan=\"3\" halign=\"left\">en</th>\n",
       "    </tr>\n",
       "    <tr>\n",
       "      <th></th>\n",
       "      <th></th>\n",
       "      <th>all</th>\n",
       "      <th>numeric</th>\n",
       "      <th>non-numeric</th>\n",
       "    </tr>\n",
       "  </thead>\n",
       "  <tbody>\n",
       "    <tr>\n",
       "      <th rowspan=\"4\" valign=\"top\">samples</th>\n",
       "      <th>total</th>\n",
       "      <td>166,510 (100.00%)</td>\n",
       "      <td>-</td>\n",
       "      <td>166,510 (100.00%)</td>\n",
       "    </tr>\n",
       "    <tr>\n",
       "      <th>train</th>\n",
       "      <td>155,711 (93.51%)</td>\n",
       "      <td>-</td>\n",
       "      <td>155,711 (93.51%)</td>\n",
       "    </tr>\n",
       "    <tr>\n",
       "      <th>dev</th>\n",
       "      <td>5,534 (3.32%)</td>\n",
       "      <td>-</td>\n",
       "      <td>5,534 (3.32%)</td>\n",
       "    </tr>\n",
       "    <tr>\n",
       "      <th>test</th>\n",
       "      <td>5,265 (3.16%)</td>\n",
       "      <td>-</td>\n",
       "      <td>5,265 (3.16%)</td>\n",
       "    </tr>\n",
       "    <tr>\n",
       "      <th rowspan=\"4\" valign=\"top\">audio</th>\n",
       "      <th>total</th>\n",
       "      <td>24 days, 7:13:18.246688 (100.00%)</td>\n",
       "      <td>-</td>\n",
       "      <td>24 days, 7:13:18.246688 (100.00%)</td>\n",
       "    </tr>\n",
       "    <tr>\n",
       "      <th>train</th>\n",
       "      <td>22 days, 17:15:01.426250 (93.49%)</td>\n",
       "      <td>-</td>\n",
       "      <td>22 days, 17:15:01.426250 (93.49%)</td>\n",
       "    </tr>\n",
       "    <tr>\n",
       "      <th>dev</th>\n",
       "      <td>19:30:03.050250 (3.34%)</td>\n",
       "      <td>-</td>\n",
       "      <td>19:30:03.050250 (3.34%)</td>\n",
       "    </tr>\n",
       "    <tr>\n",
       "      <th>test</th>\n",
       "      <td>18:28:13.770187 (3.17%)</td>\n",
       "      <td>-</td>\n",
       "      <td>18:28:13.770187 (3.17%)</td>\n",
       "    </tr>\n",
       "    <tr>\n",
       "      <th rowspan=\"4\" valign=\"top\">Ø audio</th>\n",
       "      <th>total</th>\n",
       "      <td>0:00:12.609442</td>\n",
       "      <td>-</td>\n",
       "      <td>0:00:12.609442</td>\n",
       "    </tr>\n",
       "    <tr>\n",
       "      <th>train</th>\n",
       "      <td>0:00:12.606055</td>\n",
       "      <td>-</td>\n",
       "      <td>0:00:12.606055</td>\n",
       "    </tr>\n",
       "    <tr>\n",
       "      <th>dev</th>\n",
       "      <td>0:00:12.685770</td>\n",
       "      <td>-</td>\n",
       "      <td>0:00:12.685770</td>\n",
       "    </tr>\n",
       "    <tr>\n",
       "      <th>test</th>\n",
       "      <td>0:00:12.629396</td>\n",
       "      <td>-</td>\n",
       "      <td>0:00:12.629396</td>\n",
       "    </tr>\n",
       "    <tr>\n",
       "      <th rowspan=\"4\" valign=\"top\">Ø transcript</th>\n",
       "      <th>total</th>\n",
       "      <td>183.84</td>\n",
       "      <td>-</td>\n",
       "      <td>183.84</td>\n",
       "    </tr>\n",
       "    <tr>\n",
       "      <th>train</th>\n",
       "      <td>183.72</td>\n",
       "      <td>-</td>\n",
       "      <td>183.72</td>\n",
       "    </tr>\n",
       "    <tr>\n",
       "      <th>dev</th>\n",
       "      <td>187.99</td>\n",
       "      <td>-</td>\n",
       "      <td>187.99</td>\n",
       "    </tr>\n",
       "    <tr>\n",
       "      <th>test</th>\n",
       "      <td>182.89</td>\n",
       "      <td>-</td>\n",
       "      <td>182.89</td>\n",
       "    </tr>\n",
       "  </tbody>\n",
       "</table>"
      ],
      "text/plain": [
       "<IPython.core.display.HTML object>"
      ]
     },
     "metadata": {},
     "output_type": "display_data"
    }
   ],
   "source": [
    "from IPython.display import HTML, Audio, display\n",
    "from util.corpus_util import *\n",
    "ls_corpus = get_corpus('/media/daniel/IP9/corpora/librispeech')\n",
    "display(HTML(ls_corpus.summary(html=True)))"
   ]
  },
  {
   "cell_type": "code",
   "execution_count": null,
   "metadata": {},
   "outputs": [],
   "source": [
    "from IPython.display import HTML, Audio, display\n",
    "ls_entry = ls_corpus[0]\n",
    "display(HTML(ls_entry.summary(html=True)))\n",
    "display(Audio(ls_entry.audio_path))\n",
    "display(HTML(ls_entry.transcript))"
   ]
  },
  {
   "cell_type": "code",
   "execution_count": null,
   "metadata": {
    "scrolled": true
   },
   "outputs": [],
   "source": [
    "from IPython.display import HTML, Audio, display\n",
    "\n",
    "# show some speech segments of corpus entry\n",
    "print(f'{len(ls_entry)} segments')\n",
    "for i, s in enumerate(ls_entry[:5], 1):\n",
    "    display(Audio(data=s.audio, rate=s.rate))\n",
    "    display(HTML(s.transcript))"
   ]
  },
  {
   "cell_type": "markdown",
   "metadata": {},
   "source": [
    "# CommonVoice\n",
    "\n",
    "This corpus was readily downloaded from [the CommonVoice project page](https://voice.mozilla.org/de/data) and already contains speech samples in the expected format."
   ]
  },
  {
   "cell_type": "code",
   "execution_count": null,
   "metadata": {},
   "outputs": [],
   "source": [
    "from IPython.display import HTML, Audio, display\n",
    "from util.corpus_util import *\n",
    "cv_corpus = get_corpus('/media/daniel/IP9/corpora/cv')\n",
    "display(HTML(cv_corpus.summary(html=True)))"
   ]
  },
  {
   "cell_type": "code",
   "execution_count": null,
   "metadata": {},
   "outputs": [],
   "source": [
    "from IPython.display import HTML, Audio, display\n",
    "cv_entry = cv_corpus[0]\n",
    "display(HTML(cv_entry.summary(html=True)))\n",
    "display(Audio(cv_entry.audio_path))\n",
    "display(HTML(cv_entry.transcript))"
   ]
  },
  {
   "cell_type": "code",
   "execution_count": null,
   "metadata": {},
   "outputs": [],
   "source": [
    "from IPython.display import HTML, Audio, display\n",
    "\n",
    "# show some speech segments of corpus entry\n",
    "print(f'{len(cv_entry)} segments')\n",
    "for i, s in enumerate(cv_entry[:5], 1):\n",
    "    display(Audio(data=s.audio, rate=s.rate))\n",
    "    display(HTML(s.transcript))"
   ]
  },
  {
   "cell_type": "markdown",
   "metadata": {},
   "source": [
    "# ReadyLingua corpus\n",
    "\n",
    "This corpus was received from ReadyLingua and was stored in the same generic, proprietary format like the _LibriSpeech_ corpus."
   ]
  },
  {
   "cell_type": "code",
   "execution_count": null,
   "metadata": {},
   "outputs": [],
   "source": [
    "from IPython.display import HTML, Audio, display\n",
    "from util.corpus_util import *\n",
    "\n",
    "rl_corpus = get_corpus('/media/daniel/IP9/corpora/readylingua')\n",
    "display(HTML(rl_corpus.summary(html=True)))"
   ]
  },
  {
   "cell_type": "code",
   "execution_count": null,
   "metadata": {},
   "outputs": [],
   "source": [
    "from IPython.display import HTML, Audio, display\n",
    "\n",
    "rl_entry = rl_corpus[0]\n",
    "# rl_entry = rl_corpus['news160929']\n",
    "\n",
    "display(HTML(rl_entry.summary(html=True)))\n",
    "display(Audio(rl_entry.audio_path))\n",
    "display(HTML(rl_entry.transcript))"
   ]
  },
  {
   "cell_type": "code",
   "execution_count": null,
   "metadata": {},
   "outputs": [],
   "source": [
    "from IPython.display import HTML, Audio, display\n",
    "\n",
    "# show some speech segments of corpus entry\n",
    "print(f'{len(rl_entry)} speech segments')\n",
    "for i, s in enumerate(rl_entry[:5], 1):\n",
    "    display(Audio(data=s.audio, rate=s.rate))\n",
    "    display(HTML(s.transcript))"
   ]
  },
  {
   "cell_type": "markdown",
   "metadata": {},
   "source": [
    "# ReadyLingua corpus (synthesized data)"
   ]
  },
  {
   "cell_type": "code",
   "execution_count": null,
   "metadata": {},
   "outputs": [],
   "source": [
    "from IPython.display import HTML, Audio, display\n",
    "from corpus.corpus import DeepSpeechCorpus\n",
    "\n",
    "train_csv = '/media/daniel/IP9/corpora/readylingua-de/readylingua-de-train.csv'\n",
    "dev_csv = '/media/daniel/IP9/corpora/readylingua-de/readylingua-de-dev.csv'\n",
    "test_csv = '/media/daniel/IP9/corpora/readylingua-de/readylingua-de-test.csv'\n",
    "\n",
    "rl_de_synth_corpus = DeepSpeechCorpus('de', train_csv, dev_csv, test_csv)\n",
    "display(HTML(rl_de_synth_corpus.summary(html=True)))"
   ]
  },
  {
   "cell_type": "code",
   "execution_count": null,
   "metadata": {},
   "outputs": [],
   "source": []
  }
 ],
 "metadata": {
  "kernelspec": {
   "display_name": "Python 3",
   "language": "python",
   "name": "python3"
  },
  "language_info": {
   "codemirror_mode": {
    "name": "ipython",
    "version": 3
   },
   "file_extension": ".py",
   "mimetype": "text/x-python",
   "name": "python",
   "nbconvert_exporter": "python",
   "pygments_lexer": "ipython3",
   "version": "3.6.7"
  },
  "latex_envs": {
   "LaTeX_envs_menu_present": true,
   "autoclose": false,
   "autocomplete": true,
   "bibliofile": "biblio.bib",
   "cite_by": "apalike",
   "current_citInitial": 1,
   "eqLabelWithNumbers": true,
   "eqNumInitial": 1,
   "hotkeys": {
    "equation": "Ctrl-E",
    "itemize": "Ctrl-I"
   },
   "labels_anchors": false,
   "latex_user_defs": false,
   "report_style_numbering": false,
   "user_envs_cfg": false
  },
  "toc": {
   "base_numbering": 1,
   "nav_menu": {},
   "number_sections": true,
   "sideBar": true,
   "skip_h1_title": false,
   "title_cell": "Table of Contents",
   "title_sidebar": "Contents",
   "toc_cell": false,
   "toc_position": {},
   "toc_section_display": true,
   "toc_window_display": true
  }
 },
 "nbformat": 4,
 "nbformat_minor": 1
}
