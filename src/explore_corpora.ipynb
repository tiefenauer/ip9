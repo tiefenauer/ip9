{
 "cells": [
  {
   "cell_type": "markdown",
   "metadata": {},
   "source": [
    "# LibriSpeech corpus"
   ]
  },
  {
   "cell_type": "code",
   "execution_count": null,
   "metadata": {},
   "outputs": [],
   "source": [
    "from util.corpus_util import *\n",
    "\n",
    "ls_corpus = get_corpus('ls')"
   ]
  },
  {
   "cell_type": "code",
   "execution_count": null,
   "metadata": {},
   "outputs": [],
   "source": [
    "# show corpus entry\n",
    "ls_entry = ls_corpus[0]\n",
    "print(ls_entry.id)\n",
    "print(ls_entry.name)\n",
    "print(ls_entry.audio_path)"
   ]
  },
  {
   "cell_type": "code",
   "execution_count": null,
   "metadata": {},
   "outputs": [],
   "source": [
    "display(Audio(ls_entry.audio_path))"
   ]
  },
  {
   "cell_type": "code",
   "execution_count": null,
   "metadata": {},
   "outputs": [],
   "source": [
    "from IPython.display import HTML, Audio, display\n",
    "\n",
    "# show some speech segments of corpus entry\n",
    "print(f'{len(ls_entry.speech_segments)} speech segments')\n",
    "for i, s in enumerate(ls_entry[:5], 1):\n",
    "    display(Audio(data=s.audio, rate=s.rate))\n",
    "    display(HTML(s.text))"
   ]
  },
  {
   "cell_type": "markdown",
   "metadata": {},
   "source": [
    "# ReadyLingua corpus"
   ]
  },
  {
   "cell_type": "code",
   "execution_count": null,
   "metadata": {},
   "outputs": [],
   "source": [
    "from util.corpus_util import *\n",
    "\n",
    "rl_corpus = get_corpus('rl')"
   ]
  },
  {
   "cell_type": "code",
   "execution_count": null,
   "metadata": {},
   "outputs": [],
   "source": [
    "# show corpus entry\n",
    "rl_entry = rl_corpus[0]\n",
    "rl_entry = rl_corpus['news160929']\n",
    "print(rl_entry.id)\n",
    "print(rl_entry.name)\n",
    "print(rl_entry.audio_path)"
   ]
  },
  {
   "cell_type": "code",
   "execution_count": null,
   "metadata": {},
   "outputs": [],
   "source": [
    "from IPython.display import HTML, Audio, display\n",
    "\n",
    "# show some speech segments of corpus entry\n",
    "print(f'{len(rl_entry.speech_segments)} speech segments')\n",
    "for i, s in enumerate(rl_entry[:5], 1):\n",
    "    display(Audio(data=s.audio, rate=s.rate))\n",
    "    display(HTML(s.text))"
   ]
  },
  {
   "cell_type": "code",
   "execution_count": null,
   "metadata": {},
   "outputs": [],
   "source": []
  }
 ],
 "metadata": {
  "kernelspec": {
   "display_name": "Python 3",
   "language": "python",
   "name": "python3"
  },
  "language_info": {
   "codemirror_mode": {
    "name": "ipython",
    "version": 3
   },
   "file_extension": ".py",
   "mimetype": "text/x-python",
   "name": "python",
   "nbconvert_exporter": "python",
   "pygments_lexer": "ipython3",
   "version": "3.6.5"
  }
 },
 "nbformat": 4,
 "nbformat_minor": 1
}
