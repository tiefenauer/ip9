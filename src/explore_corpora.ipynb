{
 "cells": [
  {
   "cell_type": "code",
   "execution_count": null,
   "metadata": {},
   "outputs": [],
   "source": [
    "from util.corpus_util import *\n",
    "from IPython.display import HTML, Audio, display\n",
    "\n",
    "corpus = get_corpus('ls')"
   ]
  },
  {
   "cell_type": "code",
   "execution_count": null,
   "metadata": {},
   "outputs": [],
   "source": [
    "# show corpus entry\n",
    "corpus_entry = corpus[0]\n",
    "audio_path = corpus_entry.audio_file\n",
    "print(audio_path)\n",
    "display(Audio(audio_path))"
   ]
  },
  {
   "cell_type": "code",
   "execution_count": null,
   "metadata": {},
   "outputs": [],
   "source": [
    "# show first 5 speech segments of corpus entry\n",
    "for i, s in enumerate(corpus_entry[:5], 1):\n",
    "    display(Audio(data=s.audio, rate=s.rate))\n",
    "    display(HTML(s.text))"
   ]
  },
  {
   "cell_type": "code",
   "execution_count": null,
   "metadata": {},
   "outputs": [],
   "source": []
  }
 ],
 "metadata": {
  "kernelspec": {
   "display_name": "Python 3",
   "language": "python",
   "name": "python3"
  },
  "language_info": {
   "codemirror_mode": {
    "name": "ipython",
    "version": 3
   },
   "file_extension": ".py",
   "mimetype": "text/x-python",
   "name": "python",
   "nbconvert_exporter": "python",
   "pygments_lexer": "ipython3",
   "version": "3.6.6"
  }
 },
 "nbformat": 4,
 "nbformat_minor": 1
}
