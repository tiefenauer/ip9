{
 "cells": [
  {
   "cell_type": "code",
   "execution_count": null,
   "metadata": {},
   "outputs": [],
   "source": [
    "import numpy as np\n",
    "import evaluate_pipeline as ep\n",
    "from IPython.display import HTML, Audio\n",
    "\n",
    "audio_path = '/media/daniel/IP9/test_files/address.mp3'\n",
    "transcript_path = '/media/daniel/IP9/test_files/address.txt'\n",
    "audio, rate, transcript = ep.preprocess(audio_path, transcript_path)\n",
    "\n",
    "display(HTML('original file'))\n",
    "display(Audio(data=np.frombuffer(audio, dtype=np.int16), rate=rate))\n",
    "\n",
    "display(HTML('voice segments'))\n",
    "voice_segments = ep.vad(audio, rate)\n",
    "print(f'got {len(voice_segments)} segments')\n",
    "for voice in voice_segments:\n",
    "    display(Audio(data=voice.audio, rate=voice.rate))"
   ]
  },
  {
   "cell_type": "code",
   "execution_count": null,
   "metadata": {},
   "outputs": [],
   "source": []
  }
 ],
 "metadata": {
  "kernelspec": {
   "display_name": "Python 3",
   "language": "python",
   "name": "python3"
  },
  "language_info": {
   "codemirror_mode": {
    "name": "ipython",
    "version": 3
   },
   "file_extension": ".py",
   "mimetype": "text/x-python",
   "name": "python",
   "nbconvert_exporter": "python",
   "pygments_lexer": "ipython3",
   "version": "3.6.6"
  },
  "latex_envs": {
   "LaTeX_envs_menu_present": true,
   "autoclose": false,
   "autocomplete": true,
   "bibliofile": "biblio.bib",
   "cite_by": "apalike",
   "current_citInitial": 1,
   "eqLabelWithNumbers": true,
   "eqNumInitial": 1,
   "hotkeys": {
    "equation": "Ctrl-E",
    "itemize": "Ctrl-I"
   },
   "labels_anchors": false,
   "latex_user_defs": false,
   "report_style_numbering": false,
   "user_envs_cfg": false
  },
  "toc": {
   "base_numbering": 1,
   "nav_menu": {},
   "number_sections": true,
   "sideBar": true,
   "skip_h1_title": false,
   "title_cell": "Table of Contents",
   "title_sidebar": "Contents",
   "toc_cell": false,
   "toc_position": {},
   "toc_section_display": true,
   "toc_window_display": false
  }
 },
 "nbformat": 4,
 "nbformat_minor": 1
}
