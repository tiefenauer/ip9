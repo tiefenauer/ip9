{
 "cells": [
  {
   "cell_type": "code",
   "execution_count": null,
   "metadata": {},
   "outputs": [],
   "source": [
    "from lm.create_lm import *\n",
    "# path to KenLM binary\n",
    "lm_path = \"/home/daniel/KerasDeepSpeech/lm/libri-timit-lm.klm\"\n",
    "# path to vocabulary\n",
    "vocab_path = \"/home/daniel/KerasDeepSpeech/lm/words.txt\"\n",
    "\n",
    "check_lm(lm_path, vocab_path, \"language modelling is fun\")"
   ]
  },
  {
   "cell_type": "code",
   "execution_count": null,
   "metadata": {},
   "outputs": [],
   "source": [
    "from lm.create_lm import *\n",
    "# path to KenLM binary\n",
    "lm_path = \"../lm/wiki_de/wiki_de_2_gram.klm\"\n",
    "# path to vocabulary\n",
    "vocab_path = \"../lm/wiki_de/wiki_de.words\"\n",
    "\n",
    "check_lm(lm_path, vocab_path, \"man ist nur dann ein superheld wenn man sich selbst für super hält\")"
   ]
  },
  {
   "cell_type": "code",
   "execution_count": null,
   "metadata": {},
   "outputs": [],
   "source": []
  }
 ],
 "metadata": {
  "kernelspec": {
   "display_name": "Python 3",
   "language": "python",
   "name": "python3"
  },
  "language_info": {
   "codemirror_mode": {
    "name": "ipython",
    "version": 3
   },
   "file_extension": ".py",
   "mimetype": "text/x-python",
   "name": "python",
   "nbconvert_exporter": "python",
   "pygments_lexer": "ipython3",
   "version": "3.6.6"
  }
 },
 "nbformat": 4,
 "nbformat_minor": 1
}
