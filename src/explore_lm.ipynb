{
 "cells": [
  {
   "cell_type": "code",
   "execution_count": null,
   "metadata": {},
   "outputs": [],
   "source": [
    "from lm.create_lm import *\n",
    "# path to KenLM binary\n",
    "lm_path = \"/home/daniel/KerasDeepSpeech/lm/libri-timit-lm.klm\"\n",
    "# path to vocabulary\n",
    "vocab_path = \"/home/daniel/KerasDeepSpeech/lm/words.txt\"\n",
    "\n",
    "check_lm(lm_path, vocab_path, \"language modelling is fun\")"
   ]
  },
  {
   "cell_type": "code",
   "execution_count": null,
   "metadata": {},
   "outputs": [],
   "source": [
    "from lm.create_lm import *\n",
    "import kenlm    \n",
    "# path to KenLM binary\n",
    "lm_path = \"../lm/wiki_de/wiki_de_2_gram.klm\"\n",
    "# path to vocabulary\n",
    "vocab_path = \"../lm/wiki_de/wiki_de.words\"\n",
    "\n",
    "model = kenlm.LanguageModel(lm_path)\n",
    "print(f'loaded {model.order}-gram model from {lm_path}')\n",
    "\n",
    "for sentence in [\"Ich bin ein Berliner\", \"Berliner ein ich bin\"]:\n",
    "    print(sentence)\n",
    "    print(\"score:\", model.score(sentence))\n",
    "    for prob, ngram_length, oov in model.full_scores(sentence):\n",
    "        print({'probability': prob, \"n-gram lenght\": ngram_length, \"oov?\": oov})\n",
    "    print(\"perplexity:\", model.perplexity(sentence))\n",
    "    print()"
   ]
  },
  {
   "cell_type": "code",
   "execution_count": null,
   "metadata": {},
   "outputs": [],
   "source": [
    "lm_path = '../lm/wiki_de/srilm-voxforge-de-r20171217.klm'\n",
    "import kenlm\n",
    "model = kenlm.LanguageModel(lm_path)\n",
    "print(f'loaded {model.order}-gram model from {lm_path}')\n",
    "print(model.score('Wir vergleichen den Wert eines korrekten Satzes mit dem Wert eines fehlerhaften Satzes.'))\n",
    "print(model.score('Wir verglaichen den Wirt eines korrekten Sitzes mit dem Wort eines fehlerhaften Sätzes.'))"
   ]
  },
  {
   "cell_type": "code",
   "execution_count": null,
   "metadata": {},
   "outputs": [],
   "source": []
  }
 ],
 "metadata": {
  "kernelspec": {
   "display_name": "Python 3",
   "language": "python",
   "name": "python3"
  },
  "language_info": {
   "codemirror_mode": {
    "name": "ipython",
    "version": 3
   },
   "file_extension": ".py",
   "mimetype": "text/x-python",
   "name": "python",
   "nbconvert_exporter": "python",
   "pygments_lexer": "ipython3",
   "version": "3.6.6"
  }
 },
 "nbformat": 4,
 "nbformat_minor": 1
}
